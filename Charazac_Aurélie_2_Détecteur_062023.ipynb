{
 "cells": [
  {
   "cell_type": "markdown",
   "id": "df75714a-9226-4996-aee0-26e16e125293",
   "metadata": {},
   "source": [
    "Projet 10 - Aurélie CHARAZAC"
   ]
  },
  {
   "cell_type": "markdown",
   "id": "a842ad3d-4771-4626-b558-8fd892f833d8",
   "metadata": {},
   "source": [
    " <font color='red'>**Détectez des faux billets avec Python : Application de détection.**</font>"
   ]
  },
  {
   "cell_type": "code",
   "execution_count": 1,
   "id": "724ed381-e83a-4ac4-89f7-7869ea38d549",
   "metadata": {},
   "outputs": [],
   "source": [
    "# Importation des librairies de calculs.\n",
    "import pandas as pd\n",
    "from joblib import load"
   ]
  },
  {
   "cell_type": "code",
   "execution_count": 2,
   "id": "c79a1209-1e4c-4965-9ddd-4835fd5a5afc",
   "metadata": {},
   "outputs": [],
   "source": [
    "# Importation du modèle de régression logistique.\n",
    "model_rl = load('model_rl.joblib') "
   ]
  },
  {
   "cell_type": "code",
   "execution_count": 3,
   "id": "ccf41368-6ae2-4b23-906b-addf953e8c97",
   "metadata": {},
   "outputs": [
    {
     "name": "stdout",
     "output_type": "stream",
     "text": [
      "<class 'pandas.core.frame.DataFrame'>\n",
      "RangeIndex: 5 entries, 0 to 4\n",
      "Data columns (total 7 columns):\n",
      " #   Column        Non-Null Count  Dtype  \n",
      "---  ------        --------------  -----  \n",
      " 0   diagonal      5 non-null      float64\n",
      " 1   height_left   5 non-null      float64\n",
      " 2   height_right  5 non-null      float64\n",
      " 3   margin_low    5 non-null      float64\n",
      " 4   margin_up     5 non-null      float64\n",
      " 5   length        5 non-null      float64\n",
      " 6   id            5 non-null      object \n",
      "dtypes: float64(6), object(1)\n",
      "memory usage: 408.0+ bytes\n"
     ]
    }
   ],
   "source": [
    "# Importation des données (Vérification du nom du CSV à ne pas oublier).\n",
    "billets = pd.read_csv('billets_production.csv') \n",
    "billets.info()"
   ]
  },
  {
   "cell_type": "code",
   "execution_count": 4,
   "id": "478875ca-e497-4471-816d-3927aa353a59",
   "metadata": {},
   "outputs": [
    {
     "data": {
      "text/html": [
       "<div>\n",
       "<style scoped>\n",
       "    .dataframe tbody tr th:only-of-type {\n",
       "        vertical-align: middle;\n",
       "    }\n",
       "\n",
       "    .dataframe tbody tr th {\n",
       "        vertical-align: top;\n",
       "    }\n",
       "\n",
       "    .dataframe thead th {\n",
       "        text-align: right;\n",
       "    }\n",
       "</style>\n",
       "<table border=\"1\" class=\"dataframe\">\n",
       "  <thead>\n",
       "    <tr style=\"text-align: right;\">\n",
       "      <th></th>\n",
       "      <th>diagonal</th>\n",
       "      <th>height_left</th>\n",
       "      <th>height_right</th>\n",
       "      <th>margin_low</th>\n",
       "      <th>margin_up</th>\n",
       "      <th>length</th>\n",
       "      <th>id</th>\n",
       "    </tr>\n",
       "  </thead>\n",
       "  <tbody>\n",
       "    <tr>\n",
       "      <th>0</th>\n",
       "      <td>171.76</td>\n",
       "      <td>104.01</td>\n",
       "      <td>103.54</td>\n",
       "      <td>5.21</td>\n",
       "      <td>3.30</td>\n",
       "      <td>111.42</td>\n",
       "      <td>A_1</td>\n",
       "    </tr>\n",
       "    <tr>\n",
       "      <th>1</th>\n",
       "      <td>171.87</td>\n",
       "      <td>104.17</td>\n",
       "      <td>104.13</td>\n",
       "      <td>6.00</td>\n",
       "      <td>3.31</td>\n",
       "      <td>112.09</td>\n",
       "      <td>A_2</td>\n",
       "    </tr>\n",
       "    <tr>\n",
       "      <th>2</th>\n",
       "      <td>172.00</td>\n",
       "      <td>104.58</td>\n",
       "      <td>104.29</td>\n",
       "      <td>4.99</td>\n",
       "      <td>3.39</td>\n",
       "      <td>111.57</td>\n",
       "      <td>A_3</td>\n",
       "    </tr>\n",
       "    <tr>\n",
       "      <th>3</th>\n",
       "      <td>172.49</td>\n",
       "      <td>104.55</td>\n",
       "      <td>104.34</td>\n",
       "      <td>4.44</td>\n",
       "      <td>3.03</td>\n",
       "      <td>113.20</td>\n",
       "      <td>A_4</td>\n",
       "    </tr>\n",
       "    <tr>\n",
       "      <th>4</th>\n",
       "      <td>171.65</td>\n",
       "      <td>103.63</td>\n",
       "      <td>103.56</td>\n",
       "      <td>3.77</td>\n",
       "      <td>3.16</td>\n",
       "      <td>113.33</td>\n",
       "      <td>A_5</td>\n",
       "    </tr>\n",
       "  </tbody>\n",
       "</table>\n",
       "</div>"
      ],
      "text/plain": [
       "   diagonal  height_left  height_right  margin_low  margin_up  length   id\n",
       "0    171.76       104.01        103.54        5.21       3.30  111.42  A_1\n",
       "1    171.87       104.17        104.13        6.00       3.31  112.09  A_2\n",
       "2    172.00       104.58        104.29        4.99       3.39  111.57  A_3\n",
       "3    172.49       104.55        104.34        4.44       3.03  113.20  A_4\n",
       "4    171.65       103.63        103.56        3.77       3.16  113.33  A_5"
      ]
     },
     "execution_count": 4,
     "metadata": {},
     "output_type": "execute_result"
    }
   ],
   "source": [
    "# Exploration du df.\n",
    "billets.head()"
   ]
  },
  {
   "cell_type": "code",
   "execution_count": 5,
   "id": "256d0c48-f0c4-40b3-971f-bd353a3a47c6",
   "metadata": {},
   "outputs": [
    {
     "data": {
      "text/html": [
       "<div>\n",
       "<style scoped>\n",
       "    .dataframe tbody tr th:only-of-type {\n",
       "        vertical-align: middle;\n",
       "    }\n",
       "\n",
       "    .dataframe tbody tr th {\n",
       "        vertical-align: top;\n",
       "    }\n",
       "\n",
       "    .dataframe thead th {\n",
       "        text-align: right;\n",
       "    }\n",
       "</style>\n",
       "<table border=\"1\" class=\"dataframe\">\n",
       "  <thead>\n",
       "    <tr style=\"text-align: right;\">\n",
       "      <th></th>\n",
       "      <th>diagonal</th>\n",
       "      <th>height_left</th>\n",
       "      <th>height_right</th>\n",
       "      <th>margin_low</th>\n",
       "      <th>margin_up</th>\n",
       "      <th>length</th>\n",
       "      <th>id</th>\n",
       "      <th>prediction</th>\n",
       "      <th>probability_true</th>\n",
       "      <th>probability_false</th>\n",
       "    </tr>\n",
       "  </thead>\n",
       "  <tbody>\n",
       "    <tr>\n",
       "      <th>0</th>\n",
       "      <td>171.76</td>\n",
       "      <td>104.01</td>\n",
       "      <td>103.54</td>\n",
       "      <td>5.21</td>\n",
       "      <td>3.30</td>\n",
       "      <td>111.42</td>\n",
       "      <td>A_1</td>\n",
       "      <td>False</td>\n",
       "      <td>0.247747</td>\n",
       "      <td>99.752253</td>\n",
       "    </tr>\n",
       "    <tr>\n",
       "      <th>1</th>\n",
       "      <td>171.87</td>\n",
       "      <td>104.17</td>\n",
       "      <td>104.13</td>\n",
       "      <td>6.00</td>\n",
       "      <td>3.31</td>\n",
       "      <td>112.09</td>\n",
       "      <td>A_2</td>\n",
       "      <td>False</td>\n",
       "      <td>0.069065</td>\n",
       "      <td>99.930935</td>\n",
       "    </tr>\n",
       "    <tr>\n",
       "      <th>2</th>\n",
       "      <td>172.00</td>\n",
       "      <td>104.58</td>\n",
       "      <td>104.29</td>\n",
       "      <td>4.99</td>\n",
       "      <td>3.39</td>\n",
       "      <td>111.57</td>\n",
       "      <td>A_3</td>\n",
       "      <td>False</td>\n",
       "      <td>0.185937</td>\n",
       "      <td>99.814063</td>\n",
       "    </tr>\n",
       "    <tr>\n",
       "      <th>3</th>\n",
       "      <td>172.49</td>\n",
       "      <td>104.55</td>\n",
       "      <td>104.34</td>\n",
       "      <td>4.44</td>\n",
       "      <td>3.03</td>\n",
       "      <td>113.20</td>\n",
       "      <td>A_4</td>\n",
       "      <td>True</td>\n",
       "      <td>96.647701</td>\n",
       "      <td>3.352299</td>\n",
       "    </tr>\n",
       "    <tr>\n",
       "      <th>4</th>\n",
       "      <td>171.65</td>\n",
       "      <td>103.63</td>\n",
       "      <td>103.56</td>\n",
       "      <td>3.77</td>\n",
       "      <td>3.16</td>\n",
       "      <td>113.33</td>\n",
       "      <td>A_5</td>\n",
       "      <td>True</td>\n",
       "      <td>99.932995</td>\n",
       "      <td>0.067005</td>\n",
       "    </tr>\n",
       "  </tbody>\n",
       "</table>\n",
       "</div>"
      ],
      "text/plain": [
       "   diagonal  height_left  height_right  margin_low  margin_up  length   id  \\\n",
       "0    171.76       104.01        103.54        5.21       3.30  111.42  A_1   \n",
       "1    171.87       104.17        104.13        6.00       3.31  112.09  A_2   \n",
       "2    172.00       104.58        104.29        4.99       3.39  111.57  A_3   \n",
       "3    172.49       104.55        104.34        4.44       3.03  113.20  A_4   \n",
       "4    171.65       103.63        103.56        3.77       3.16  113.33  A_5   \n",
       "\n",
       "   prediction  probability_true  probability_false  \n",
       "0       False          0.247747          99.752253  \n",
       "1       False          0.069065          99.930935  \n",
       "2       False          0.185937          99.814063  \n",
       "3        True         96.647701           3.352299  \n",
       "4        True         99.932995           0.067005  "
      ]
     },
     "execution_count": 5,
     "metadata": {},
     "output_type": "execute_result"
    }
   ],
   "source": [
    "billets_rl = billets[[\"height_right\",\"margin_low\",\"margin_up\",\"length\"]]\n",
    "billets[\"prediction\"] = model_rl.predict(billets_rl)\n",
    "billets[\"probability_true\"] = model_rl.predict_proba(billets_rl)[:, 1]*100\n",
    "billets[\"probability_false\"] = model_rl.predict_proba(billets_rl)[:, 0]*100\n",
    "billets.head()"
   ]
  },
  {
   "cell_type": "code",
   "execution_count": 6,
   "id": "97a8f774-5d64-49aa-87c8-950ada94d8fa",
   "metadata": {},
   "outputs": [
    {
     "name": "stdout",
     "output_type": "stream",
     "text": [
      "Le billet A_1 est faux.\n",
      "Le billet A_2 est faux.\n",
      "Le billet A_3 est faux.\n",
      "Le billet A_4 est vrai.\n",
      "Le billet A_5 est vrai.\n"
     ]
    }
   ],
   "source": [
    "for i, k in zip(billets[\"prediction\"],billets[\"id\"]):\n",
    "    if i == True:\n",
    "        print(\"Le billet\",\"{}\".format(k),\"est vrai.\")\n",
    "    else:\n",
    "        print(\"Le billet\",\"{}\".format(k),\"est faux.\")"
   ]
  },
  {
   "cell_type": "code",
   "execution_count": null,
   "id": "c8f8bbf8-e612-47b2-8dbf-325ecab872d5",
   "metadata": {},
   "outputs": [],
   "source": []
  }
 ],
 "metadata": {
  "kernelspec": {
   "display_name": "Python 3 (ipykernel)",
   "language": "python",
   "name": "python3"
  },
  "language_info": {
   "codemirror_mode": {
    "name": "ipython",
    "version": 3
   },
   "file_extension": ".py",
   "mimetype": "text/x-python",
   "name": "python",
   "nbconvert_exporter": "python",
   "pygments_lexer": "ipython3",
   "version": "3.9.13"
  }
 },
 "nbformat": 4,
 "nbformat_minor": 5
}
